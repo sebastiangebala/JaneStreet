{
 "cells": [
  {
   "cell_type": "code",
   "execution_count": 2,
   "id": "precise-mailing",
   "metadata": {},
   "outputs": [
    {
     "name": "stdout",
     "output_type": "stream",
     "text": [
      "importing Jupyter notebook from imports_a.ipynb\n"
     ]
    }
   ],
   "source": [
    "import import_ipynb     #allows you to imports from different jupyter notebooks\n",
    "from imports_a import *   #importing imports_a"
   ]
  },
  {
   "cell_type": "code",
   "execution_count": 3,
   "id": "facial-marijuana",
   "metadata": {},
   "outputs": [],
   "source": [
    "color = sns.color_palette()\n",
    "sns.set_style('darkgrid')\n",
    "\n",
    "def ignore_warn(*args, **kwargs):\n",
    "    pass\n",
    "\n",
    "warnings.warn = ignore_warn   #ignore annoying warning (from sklearn and seaborn)"
   ]
  },
  {
   "cell_type": "code",
   "execution_count": 4,
   "id": "stylish-treatment",
   "metadata": {},
   "outputs": [],
   "source": [
    "pd.set_option('display.float_format', lambda x: '{:.3f}'.format(x))   #Limiting floats output to 4 decimal points"
   ]
  },
  {
   "cell_type": "code",
   "execution_count": 5,
   "id": "representative-placement",
   "metadata": {},
   "outputs": [
    {
     "name": "stdout",
     "output_type": "stream",
     "text": [
      "\n"
     ]
    }
   ],
   "source": [
    "print(check_output([\"ls\", \"../data\"]).decode(\"utf8\"))     #check the files available in the directory"
   ]
  },
  {
   "cell_type": "code",
   "execution_count": null,
   "id": "narrative-influence",
   "metadata": {},
   "outputs": [],
   "source": []
  }
 ],
 "metadata": {
  "kernelspec": {
   "display_name": "Python 3",
   "language": "python",
   "name": "python3"
  },
  "language_info": {
   "codemirror_mode": {
    "name": "ipython",
    "version": 3
   },
   "file_extension": ".py",
   "mimetype": "text/x-python",
   "name": "python",
   "nbconvert_exporter": "python",
   "pygments_lexer": "ipython3",
   "version": "3.9.1"
  }
 },
 "nbformat": 4,
 "nbformat_minor": 5
}
